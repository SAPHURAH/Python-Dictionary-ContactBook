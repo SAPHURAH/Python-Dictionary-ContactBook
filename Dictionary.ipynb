{
 "cells": [
  {
   "cell_type": "code",
   "execution_count": 1,
   "id": "255d069c-e301-40ff-bd90-6b38a404e09a",
   "metadata": {},
   "outputs": [
    {
     "name": "stdout",
     "output_type": "stream",
     "text": [
      "Safuratu\n",
      "21\n"
     ]
    }
   ],
   "source": [
    "my_dict = {}\n",
    "my_dict =  {\n",
    "    \"name\" : \"Safuratu\",\n",
    "    \"age\" : \"21\",\n",
    "    \"city\" : \"Accra\"\n",
    "}\n",
    "\n",
    "print(my_dict[\"name\"])\n",
    "print(my_dict[\"age\"])"
   ]
  },
  {
   "cell_type": "code",
   "execution_count": 19,
   "id": "c7d62773-16b4-4b9f-845c-7cef89db716d",
   "metadata": {},
   "outputs": [
    {
     "name": "stdout",
     "output_type": "stream",
     "text": [
      "University of Ghana\n",
      "Islam\n",
      "{'school': 'Mariejose Educational Complex', 'Religion': 'Islam'}\n",
      "{'school': 'Mariejose Educational Complex'}\n"
     ]
    }
   ],
   "source": [
    "my_dict = {}\n",
    "my_dict = {\n",
    "    \"school\": \"University of Ghana\",  # Removed the extra space\n",
    "    \"Religion\": \"Islam\"\n",
    "}\n",
    "print(my_dict.get(\"school\"))  # This will now work\n",
    "print(my_dict.get(\"Religion\"))\n",
    "\n",
    "my_dict[\"school\"] = \"Mariejose Educational Complex\"\n",
    "print(my_dict)\n",
    "del my_dict[\"Religion\"]\n",
    "print(my_dict)"
   ]
  },
  {
   "cell_type": "code",
   "execution_count": null,
   "id": "87d4680e-e089-4e06-9e71-b92a95460b76",
   "metadata": {},
   "outputs": [
    {
     "name": "stdout",
     "output_type": "stream",
     "text": [
      "\n",
      "--- Contact Book Menu ---\n",
      "1. Add Contact\n",
      "2. Search Contact\n",
      "3. Delete Contact\n",
      "4. Display All Contacts\n",
      "5. Exit\n"
     ]
    },
    {
     "name": "stdin",
     "output_type": "stream",
     "text": [
      "Enter your choice (1-5):  3\n",
      "Enter the name to delete:  Ama\n"
     ]
    },
    {
     "name": "stdout",
     "output_type": "stream",
     "text": [
      "Contact Ama not found.\n",
      "\n",
      "--- Contact Book Menu ---\n",
      "1. Add Contact\n",
      "2. Search Contact\n",
      "3. Delete Contact\n",
      "4. Display All Contacts\n",
      "5. Exit\n"
     ]
    },
    {
     "name": "stdin",
     "output_type": "stream",
     "text": [
      "Enter your choice (1-5):  4\n"
     ]
    },
    {
     "name": "stdout",
     "output_type": "stream",
     "text": [
      "No contacts to display.\n",
      "\n",
      "--- Contact Book Menu ---\n",
      "1. Add Contact\n",
      "2. Search Contact\n",
      "3. Delete Contact\n",
      "4. Display All Contacts\n",
      "5. Exit\n"
     ]
    },
    {
     "name": "stdin",
     "output_type": "stream",
     "text": [
      "Enter your choice (1-5):  3\n",
      "Enter the name to delete:  Rahman\n"
     ]
    },
    {
     "name": "stdout",
     "output_type": "stream",
     "text": [
      "Contact Rahman not found.\n",
      "\n",
      "--- Contact Book Menu ---\n",
      "1. Add Contact\n",
      "2. Search Contact\n",
      "3. Delete Contact\n",
      "4. Display All Contacts\n",
      "5. Exit\n"
     ]
    },
    {
     "name": "stdin",
     "output_type": "stream",
     "text": [
      "Enter your choice (1-5):  2\n",
      "Enter the name to search:  Safuratu\n"
     ]
    },
    {
     "name": "stdout",
     "output_type": "stream",
     "text": [
      "Contact Safuratu not found.\n",
      "\n",
      "--- Contact Book Menu ---\n",
      "1. Add Contact\n",
      "2. Search Contact\n",
      "3. Delete Contact\n",
      "4. Display All Contacts\n",
      "5. Exit\n"
     ]
    }
   ],
   "source": [
    "# Simple Contact Book using a dictionary\n",
    "contacts = {}\n",
    "\n",
    "# Function to add a new contact\n",
    "def add_contact(name, phone):\n",
    "    if name in contacts:\n",
    "        print(f\"Contact {name} already exists.\")\n",
    "    else:\n",
    "        contacts[name] = phone\n",
    "        print(f\"Contact {name} added successfully.\")\n",
    "\n",
    "# Function to search for a contact by name\n",
    "def search_contact(name):\n",
    "    if name in contacts:\n",
    "        print(f\"Name: {name}, Phone: {contacts[name]}\")\n",
    "    else:\n",
    "        print(f\"Contact {name} not found.\")\n",
    "\n",
    "# Function to delete a contact by name\n",
    "def delete_contact(name):\n",
    "    if name in contacts:\n",
    "        del contacts[name]\n",
    "        print(f\"Contact {name} deleted.\")\n",
    "    else:\n",
    "        print(f\"Contact {name} not found.\")\n",
    "\n",
    "# Function to display all contacts\n",
    "def display_contacts():\n",
    "    if contacts:\n",
    "        print(\"All Contacts:\")\n",
    "        for name, phone in contacts.items():\n",
    "            print(f\"Name: {name}, Phone: {phone}\")\n",
    "    else:\n",
    "        print(\"No contacts to display.\")\n",
    "\n",
    "# Main menu to interact with the contact book\n",
    "def menu():\n",
    "    while True:\n",
    "        print(\"\\n--- Contact Book Menu ---\")\n",
    "        print(\"1. Add Contact\")\n",
    "        print(\"2. Search Contact\")\n",
    "        print(\"3. Delete Contact\")\n",
    "        print(\"4. Display All Contacts\")\n",
    "        print(\"5. Exit\")\n",
    "\n",
    "        choice = input(\"Enter your choice (1-5): \")\n",
    "\n",
    "        if choice == '1':\n",
    "            name = input(\"Enter contact name: \")\n",
    "            phone = input(\"Enter contact phone number: \")\n",
    "            add_contact(name, phone)\n",
    "        elif choice == '2':\n",
    "            name = input(\"Enter the name to search: \")\n",
    "            search_contact(name)\n",
    "        elif choice == '3':\n",
    "            name = input(\"Enter the name to delete: \")\n",
    "            delete_contact(name)\n",
    "        elif choice == '4':\n",
    "            display_contacts()\n",
    "        elif choice == '5':\n",
    "            print(\"Exiting Contact Book. Goodbye!\")\n",
    "            break\n",
    "        else:\n",
    "            print(\"Invalid choice. Please enter a number between 1 and 5.\")\n",
    "\n",
    "# Run the contact book menu\n",
    "menu()\n"
   ]
  },
  {
   "cell_type": "code",
   "execution_count": null,
   "id": "8503379f-0fe6-4d77-808c-ebbfc6c39730",
   "metadata": {},
   "outputs": [],
   "source": []
  },
  {
   "cell_type": "code",
   "execution_count": null,
   "id": "8c9d5688-7f6b-4b14-8135-34940738d1b0",
   "metadata": {},
   "outputs": [],
   "source": []
  },
  {
   "cell_type": "code",
   "execution_count": null,
   "id": "5af62466-a214-49ab-aefa-a8cc4c9ce19b",
   "metadata": {},
   "outputs": [],
   "source": []
  },
  {
   "cell_type": "code",
   "execution_count": null,
   "id": "d21c5f7d-7501-4053-b3b8-41997a47abac",
   "metadata": {},
   "outputs": [],
   "source": []
  },
  {
   "cell_type": "code",
   "execution_count": null,
   "id": "d78abf90-b5bf-44e2-93ef-a1fe753edfe7",
   "metadata": {},
   "outputs": [],
   "source": []
  },
  {
   "cell_type": "code",
   "execution_count": null,
   "id": "fd77580a-8b09-4a97-bf43-3d6d3cb8498a",
   "metadata": {},
   "outputs": [],
   "source": []
  },
  {
   "cell_type": "code",
   "execution_count": null,
   "id": "1b1a8196-779c-4021-89b8-79b023e6131b",
   "metadata": {},
   "outputs": [],
   "source": []
  },
  {
   "cell_type": "code",
   "execution_count": null,
   "id": "5d88fdd2-4ede-450d-9657-8c84706c213c",
   "metadata": {},
   "outputs": [],
   "source": []
  },
  {
   "cell_type": "code",
   "execution_count": null,
   "id": "a2b87131-f3b1-47d9-b59c-a629eb348dfa",
   "metadata": {},
   "outputs": [],
   "source": []
  },
  {
   "cell_type": "code",
   "execution_count": null,
   "id": "96e3469c-d870-4b0b-96ae-2c983bf8c707",
   "metadata": {},
   "outputs": [],
   "source": []
  },
  {
   "cell_type": "code",
   "execution_count": null,
   "id": "3b54cd22-6c70-40c0-a851-2991c81f5cf9",
   "metadata": {},
   "outputs": [],
   "source": []
  },
  {
   "cell_type": "code",
   "execution_count": null,
   "id": "25f6153c-4f27-4030-8a71-5f5ee7ed7b08",
   "metadata": {},
   "outputs": [],
   "source": []
  },
  {
   "cell_type": "code",
   "execution_count": null,
   "id": "70b0be07-3039-4a24-a364-d1db22857e75",
   "metadata": {},
   "outputs": [],
   "source": []
  },
  {
   "cell_type": "code",
   "execution_count": null,
   "id": "601e7cff-a279-444c-af07-190b32edb021",
   "metadata": {},
   "outputs": [],
   "source": []
  },
  {
   "cell_type": "code",
   "execution_count": null,
   "id": "55de41a1-1890-4ffa-8ddf-faaa8249c787",
   "metadata": {},
   "outputs": [],
   "source": []
  },
  {
   "cell_type": "code",
   "execution_count": null,
   "id": "49a2bde5-8e12-4d43-90bc-8dadeb53a845",
   "metadata": {},
   "outputs": [],
   "source": []
  },
  {
   "cell_type": "code",
   "execution_count": null,
   "id": "096a97cc-51b7-4005-aa89-4e65bbcd4ff4",
   "metadata": {},
   "outputs": [],
   "source": []
  },
  {
   "cell_type": "code",
   "execution_count": null,
   "id": "579e757c-4ec5-4f35-a3ed-50e9027fb9da",
   "metadata": {},
   "outputs": [],
   "source": []
  },
  {
   "cell_type": "code",
   "execution_count": null,
   "id": "b31702fb-e850-4e9a-b896-07ec3c9712ed",
   "metadata": {},
   "outputs": [],
   "source": []
  },
  {
   "cell_type": "code",
   "execution_count": null,
   "id": "713d17da-8ac5-4b49-9f5e-9e8336163ac5",
   "metadata": {},
   "outputs": [],
   "source": []
  }
 ],
 "metadata": {
  "kernelspec": {
   "display_name": "Python 3 (ipykernel)",
   "language": "python",
   "name": "python3"
  },
  "language_info": {
   "codemirror_mode": {
    "name": "ipython",
    "version": 3
   },
   "file_extension": ".py",
   "mimetype": "text/x-python",
   "name": "python",
   "nbconvert_exporter": "python",
   "pygments_lexer": "ipython3",
   "version": "3.12.4"
  }
 },
 "nbformat": 4,
 "nbformat_minor": 5
}
